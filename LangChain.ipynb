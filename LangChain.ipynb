{
 "cells": [
  {
   "cell_type": "code",
   "execution_count": 1,
   "id": "b5d11aa0-c7ff-4dac-960e-c5d4d94c5376",
   "metadata": {},
   "outputs": [],
   "source": [
    "import os\n",
    "from langchain_openai import ChatOpenAI\n",
    "from langchain_core.prompts import ChatPromptTemplate\n",
    "from langchain_core.output_parsers import StrOutputParser\n",
    "os.environ[\"LANGCHAIN_TRACING_V2\"] = \"true\"\n",
    "os.environ[\"LANGCHAIN_PROJECT\"] = \"college-information-llm\""
   ]
  },
  {
   "cell_type": "code",
   "execution_count": 2,
   "id": "9e91177c-c52a-47a0-828c-e9446da669b5",
   "metadata": {},
   "outputs": [],
   "source": [
    "llm = ChatOpenAI()"
   ]
  },
  {
   "cell_type": "code",
   "execution_count": 3,
   "id": "b741244f-f41c-4163-8a90-73e8876affd5",
   "metadata": {},
   "outputs": [],
   "source": [
    "from knowledgebase import TXTKnowledgeBase"
   ]
  },
  {
   "cell_type": "code",
   "execution_count": 4,
   "id": "68ab9f65-51a5-4e05-aafe-7621dac3df4f",
   "metadata": {},
   "outputs": [],
   "source": [
    "kb=TXTKnowledgeBase(txt_source_folder_path='lxbd')"
   ]
  },
  {
   "cell_type": "code",
   "execution_count": 5,
   "id": "d38a2ec4-ce65-4ba4-8dd7-a107bd6b68cb",
   "metadata": {},
   "outputs": [],
   "source": [
    "#kb.initiate_documents()"
   ]
  },
  {
   "cell_type": "code",
   "execution_count": 6,
   "id": "9ac5bcd0-7181-4abc-8e87-ab18052be758",
   "metadata": {},
   "outputs": [],
   "source": [
    "vector=kb.return_retriever_from_persistant_vector_db()"
   ]
  },
  {
   "cell_type": "code",
   "execution_count": 12,
   "id": "e3177fbf-092f-4e2a-a880-f14b8fc5df01",
   "metadata": {},
   "outputs": [],
   "source": [
    "from langchain.chains.combine_documents import create_stuff_documents_chain\n",
    "from langchain_core.prompts import ChatPromptTemplate\n",
    "prompt = ChatPromptTemplate.from_template(\"\"\"Answer the following question based only on the provided context:\n",
    "<context>\n",
    "{context}\n",
    "</context>\n",
    "Question: {input}\"\"\")\n",
    "\n",
    "document_chain = create_stuff_documents_chain(llm, prompt)"
   ]
  },
  {
   "cell_type": "code",
   "execution_count": 13,
   "id": "b30c0611-57a1-4153-914e-7f0f5ac27846",
   "metadata": {},
   "outputs": [],
   "source": [
    "from langchain.chains import create_retrieval_chain\n",
    "\n",
    "retriever = vector.as_retriever(search_kwargs={'k':4})\n",
    "retrieval_chain = create_retrieval_chain(retriever, document_chain)"
   ]
  },
  {
   "cell_type": "code",
   "execution_count": null,
   "id": "8a181c89-76d6-4769-9426-f9c8672c81ae",
   "metadata": {},
   "outputs": [],
   "source": [
    "response_stream=retrieval_chain.stream({\"input\": \"美国博士申请成绩单认证应该怎么处理\"})\n",
    "output={}\n",
    "curr_key = None\n",
    "for chunk in response_stream:\n",
    "    for key in chunk:\n",
    "        if key not in output:\n",
    "            output[key] = chunk[key]\n",
    "        else:\n",
    "            output[key] += chunk[key]\n",
    "        if key != curr_key:\n",
    "            print(f\"\\n\\n{key}: {chunk[key]}\", end=\"\", flush=True)\n",
    "        else:\n",
    "            print(chunk[key], end=\"\", flush=True)\n",
    "        curr_key = key"
   ]
  },
  {
   "cell_type": "code",
   "execution_count": null,
   "id": "aecbc926-6d68-4623-b356-a3709dd124f3",
   "metadata": {},
   "outputs": [],
   "source": []
  }
 ],
 "metadata": {
  "kernelspec": {
   "display_name": "Python 3 (ipykernel)",
   "language": "python",
   "name": "python3"
  },
  "language_info": {
   "codemirror_mode": {
    "name": "ipython",
    "version": 3
   },
   "file_extension": ".py",
   "mimetype": "text/x-python",
   "name": "python",
   "nbconvert_exporter": "python",
   "pygments_lexer": "ipython3",
   "version": "3.10.13"
  }
 },
 "nbformat": 4,
 "nbformat_minor": 5
}
