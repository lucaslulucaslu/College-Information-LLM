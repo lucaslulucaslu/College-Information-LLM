{
 "cells": [
  {
   "cell_type": "code",
   "execution_count": 1,
   "id": "b5d11aa0-c7ff-4dac-960e-c5d4d94c5376",
   "metadata": {},
   "outputs": [],
   "source": [
    "import os\n",
    "from langchain_openai import ChatOpenAI\n",
    "from langchain_core.prompts import ChatPromptTemplate\n",
    "from langchain.chains.combine_documents import create_stuff_documents_chain\n",
    "from langchain.chains import create_retrieval_chain\n",
    "os.environ[\"LANGCHAIN_TRACING_V2\"] = \"true\"\n",
    "os.environ[\"LANGCHAIN_PROJECT\"] = \"college-information-llm\""
   ]
  },
  {
   "cell_type": "code",
   "execution_count": 2,
   "id": "9e91177c-c52a-47a0-828c-e9446da669b5",
   "metadata": {},
   "outputs": [],
   "source": [
    "llm = ChatOpenAI()"
   ]
  },
  {
   "cell_type": "code",
   "execution_count": 3,
   "id": "b741244f-f41c-4163-8a90-73e8876affd5",
   "metadata": {},
   "outputs": [],
   "source": [
    "from knowledgebase import TXTKnowledgeBase"
   ]
  },
  {
   "cell_type": "code",
   "execution_count": 4,
   "id": "68ab9f65-51a5-4e05-aafe-7621dac3df4f",
   "metadata": {},
   "outputs": [],
   "source": [
    "kb=TXTKnowledgeBase(txt_source_folder_path='lxbd')"
   ]
  },
  {
   "cell_type": "code",
   "execution_count": 5,
   "id": "d38a2ec4-ce65-4ba4-8dd7-a107bd6b68cb",
   "metadata": {},
   "outputs": [],
   "source": [
    "#kb.initiate_documents()"
   ]
  },
  {
   "cell_type": "code",
   "execution_count": 6,
   "id": "9ac5bcd0-7181-4abc-8e87-ab18052be758",
   "metadata": {},
   "outputs": [],
   "source": [
    "vector=kb.return_retriever_from_persistant_vector_db()\n",
    "retriever = vector.as_retriever(search_kwargs={'k':4})"
   ]
  },
  {
   "cell_type": "code",
   "execution_count": 7,
   "id": "3f4b0e65-1d4b-434e-b6f1-d0ee8988f17a",
   "metadata": {},
   "outputs": [],
   "source": [
    "from langchain.tools.retriever import create_retriever_tool"
   ]
  },
  {
   "cell_type": "code",
   "execution_count": 72,
   "id": "8ef07991-27f4-4131-9f1e-02aec30482ec",
   "metadata": {},
   "outputs": [],
   "source": [
    "retriever_tool=create_retriever_tool(\n",
    "    retriever,\n",
    "    name='search_international_students_related_information',\n",
    "    description='搜索并返回关于在美国留学相关的信息',\n",
    ")"
   ]
  },
  {
   "cell_type": "markdown",
   "id": "790ccd93-958e-4bbe-80f3-32bfc5bb5689",
   "metadata": {},
   "source": [
    "another tools"
   ]
  },
  {
   "cell_type": "code",
   "execution_count": 73,
   "id": "5ee8e6d8-342e-4df3-854d-294e09cfc668",
   "metadata": {},
   "outputs": [],
   "source": [
    "from langchain_core.tools import tool\n",
    "\n",
    "\n",
    "@tool\n",
    "def college_data(collegeID:int):\n",
    "    \"\"\"搜索美国大学相关的各项数据并作图\"\"\"\n",
    "    print(collegeID)\n",
    "    return"
   ]
  },
  {
   "cell_type": "code",
   "execution_count": 74,
   "id": "d84f4e6d-6b3c-43cf-8a5b-127c3c00ae8f",
   "metadata": {},
   "outputs": [],
   "source": [
    "tools=[retriever_tool,college_data]"
   ]
  },
  {
   "cell_type": "code",
   "execution_count": 75,
   "id": "b897d455-d5d0-4a95-91e0-d2b5bfa477b1",
   "metadata": {},
   "outputs": [
    {
     "data": {
      "text/plain": [
       "[SystemMessagePromptTemplate(prompt=PromptTemplate(input_variables=[], template='You are a helpful assistant')),\n",
       " MessagesPlaceholder(variable_name='chat_history', optional=True),\n",
       " HumanMessagePromptTemplate(prompt=PromptTemplate(input_variables=['input'], template='{input}')),\n",
       " MessagesPlaceholder(variable_name='agent_scratchpad')]"
      ]
     },
     "execution_count": 75,
     "metadata": {},
     "output_type": "execute_result"
    }
   ],
   "source": [
    "from langchain import hub\n",
    "\n",
    "prompt = hub.pull(\"hwchase17/openai-tools-agent\")\n",
    "prompt.messages"
   ]
  },
  {
   "cell_type": "code",
   "execution_count": 76,
   "id": "d916ee75-5c3e-4eb7-8d32-dd1ea775350c",
   "metadata": {},
   "outputs": [],
   "source": [
    "from langchain.agents import AgentExecutor, create_openai_tools_agent\n",
    "\n",
    "agent = create_openai_tools_agent(llm, tools, prompt)\n",
    "agent_executor = AgentExecutor(agent=agent, tools=tools)"
   ]
  },
  {
   "cell_type": "code",
   "execution_count": 80,
   "id": "c23e4434-312b-4c96-a638-9640458a9a05",
   "metadata": {},
   "outputs": [
    {
     "name": "stdout",
     "output_type": "stream",
     "text": [
      "1\n"
     ]
    }
   ],
   "source": [
    "result = agent_executor.invoke({\"input\": \"普林斯顿大学\"})"
   ]
  },
  {
   "cell_type": "code",
   "execution_count": 81,
   "id": "ae132465-f817-4f8d-a5a2-65065a96d09f",
   "metadata": {},
   "outputs": [
    {
     "data": {
      "text/plain": [
       "{'input': '普林斯顿大学', 'output': '抱歉，我无法找到有关普林斯顿大学的数据。您还有其他问题需要帮忙吗？'}"
      ]
     },
     "execution_count": 81,
     "metadata": {},
     "output_type": "execute_result"
    }
   ],
   "source": [
    "result"
   ]
  },
  {
   "cell_type": "code",
   "execution_count": null,
   "id": "aecbc926-6d68-4623-b356-a3709dd124f3",
   "metadata": {},
   "outputs": [],
   "source": []
  }
 ],
 "metadata": {
  "kernelspec": {
   "display_name": "Python 3 (ipykernel)",
   "language": "python",
   "name": "python3"
  },
  "language_info": {
   "codemirror_mode": {
    "name": "ipython",
    "version": 3
   },
   "file_extension": ".py",
   "mimetype": "text/x-python",
   "name": "python",
   "nbconvert_exporter": "python",
   "pygments_lexer": "ipython3",
   "version": "3.10.13"
  }
 },
 "nbformat": 4,
 "nbformat_minor": 5
}
