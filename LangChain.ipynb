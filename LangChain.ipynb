{
 "cells": [
  {
   "cell_type": "code",
   "execution_count": 1,
   "id": "b5d11aa0-c7ff-4dac-960e-c5d4d94c5376",
   "metadata": {},
   "outputs": [],
   "source": [
    "import os\n",
    "from langchain_openai import ChatOpenAI\n",
    "from langchain_core.prompts import ChatPromptTemplate\n",
    "from langchain.chains.combine_documents import create_stuff_documents_chain\n",
    "from langchain.chains import create_retrieval_chain\n",
    "os.environ[\"LANGCHAIN_TRACING_V2\"] = \"true\"\n",
    "os.environ[\"LANGCHAIN_PROJECT\"] = \"college-information-llm\"\n",
    "import pandas as pd\n",
    "import csv\n",
    "from langchain_openai import OpenAIEmbeddings\n",
    "from langchain_community.vectorstores import FAISS\n",
    "from langchain_core.output_parsers import JsonOutputParser\n",
    "from langchain_core.pydantic_v1 import BaseModel, Field"
   ]
  },
  {
   "cell_type": "code",
   "execution_count": 2,
   "id": "9e91177c-c52a-47a0-828c-e9446da669b5",
   "metadata": {},
   "outputs": [],
   "source": [
    "llm = ChatOpenAI(model='gpt-4o')"
   ]
  },
  {
   "cell_type": "code",
   "execution_count": 3,
   "id": "b741244f-f41c-4163-8a90-73e8876affd5",
   "metadata": {},
   "outputs": [],
   "source": [
    "from knowledgebase import TXTKnowledgeBase"
   ]
  },
  {
   "cell_type": "code",
   "execution_count": 4,
   "id": "68ab9f65-51a5-4e05-aafe-7621dac3df4f",
   "metadata": {},
   "outputs": [],
   "source": [
    "kb=TXTKnowledgeBase(txt_source_folder_path='lxbd')"
   ]
  },
  {
   "cell_type": "code",
   "execution_count": 5,
   "id": "d38a2ec4-ce65-4ba4-8dd7-a107bd6b68cb",
   "metadata": {},
   "outputs": [],
   "source": [
    "#kb.initiate_documents()"
   ]
  },
  {
   "cell_type": "code",
   "execution_count": 6,
   "id": "9ac5bcd0-7181-4abc-8e87-ab18052be758",
   "metadata": {},
   "outputs": [],
   "source": [
    "vector=kb.return_retriever_from_persistant_vector_db()\n",
    "retriever = vector.as_retriever(search_kwargs={'k':4})"
   ]
  },
  {
   "cell_type": "code",
   "execution_count": 7,
   "id": "3f4b0e65-1d4b-434e-b6f1-d0ee8988f17a",
   "metadata": {},
   "outputs": [],
   "source": [
    "from langchain.tools.retriever import create_retriever_tool"
   ]
  },
  {
   "cell_type": "code",
   "execution_count": 8,
   "id": "8ef07991-27f4-4131-9f1e-02aec30482ec",
   "metadata": {},
   "outputs": [],
   "source": [
    "retriever_tool=create_retriever_tool(\n",
    "    retriever,\n",
    "    name='search_international_students_related_information',\n",
    "    description='搜索并返回关于在美国留学相关的信息',\n",
    ")"
   ]
  },
  {
   "cell_type": "markdown",
   "id": "790ccd93-958e-4bbe-80f3-32bfc5bb5689",
   "metadata": {},
   "source": [
    "another tools"
   ]
  },
  {
   "cell_type": "code",
   "execution_count": 64,
   "id": "5ee8e6d8-342e-4df3-854d-294e09cfc668",
   "metadata": {},
   "outputs": [],
   "source": [
    "from langchain_core.tools import tool\n",
    "from langchain.chains import create_history_aware_retriever\n",
    "from langchain_core.prompts import MessagesPlaceholder\n",
    "from colleges import CollegesData\n",
    "\n",
    "cd=CollegesData()\n",
    "\n",
    "college_vector=cd.return_colleges_vector_from_db()\n",
    "college_retriever=college_vector.as_retriever()\n",
    "\n",
    "@tool\n",
    "def college_data(msg:str):\n",
    "    \"\"\"搜索美国大学数据相关的内容\"\"\"\n",
    "    prompt_retriever = ChatPromptTemplate.from_messages([\n",
    "        MessagesPlaceholder(variable_name=\"chat_history\"),\n",
    "        ('user',\"{input}\"),\n",
    "        (\"user\", '基于聊天内容与用户输入，生成一个可以用于查询内容的学校全名，包含中文名与英文名，只回答学校全名，除此以外不回答任何内容')\n",
    "    ])\n",
    "    college_retriever_chain = create_history_aware_retriever(llm, college_retriever, prompt_retriever)\n",
    "\n",
    "    class College_Info(BaseModel):\n",
    "        cname:str=Field(description='学校中文全名')\n",
    "        ename:str=Field(description='学校英文全名')\n",
    "        postid:str=Field(description='学校的postid')\n",
    "        unitid:str=Field(description='学校的unitid')\n",
    "        data_type:str=Field(description='数据种类，可以是排名、录取率、录取人数、专业数、学费、犯罪率这几种中的一种或多种')\n",
    "        \n",
    "    parser=JsonOutputParser(pydantic_object=College_Info)\n",
    "    \n",
    "    prompt_document = ChatPromptTemplate.from_messages([\n",
    "    (\"system\", \"基于下面内容及用户输入，根据format_instructions输出，数据种类必须完全符合类型中的一种或几种\\n\\n{context}\\n{format_instructions}\"),\n",
    "    MessagesPlaceholder(variable_name=\"chat_history\"),\n",
    "    (\"user\", \"{input}\"),\n",
    "])\n",
    "    document_chain=create_stuff_documents_chain(llm,prompt_document)\n",
    "    college_chain=create_retrieval_chain(college_retriever_chain,document_chain)\n",
    "    response=college_chain.invoke({\n",
    "        'chat_history':[{'role':'ai','content':'how can I help you?'}],\n",
    "        'input':msg,\n",
    "        'format_instructions':parser.get_format_instructions()\n",
    "    })\n",
    "    print (extract_json(response['answer']))\n",
    "    return response"
   ]
  },
  {
   "cell_type": "code",
   "execution_count": 65,
   "id": "9ceb063e-699c-4118-a166-6b632474aeab",
   "metadata": {},
   "outputs": [],
   "source": [
    "import json\n",
    "import re\n",
    "from typing import List\n",
    "def extract_json(msg)->List[dict]:\n",
    "    pattern = r\"```json(.*?)```\"\n",
    "    matches = re.findall(pattern, msg, re.DOTALL)\n",
    "    try:\n",
    "        return [json.loads(match.strip()) for match in matches]\n",
    "    except Exception:\n",
    "        raise ValueError(f\"Failed to parse: {message}\")"
   ]
  },
  {
   "cell_type": "code",
   "execution_count": 66,
   "id": "d84f4e6d-6b3c-43cf-8a5b-127c3c00ae8f",
   "metadata": {},
   "outputs": [],
   "source": [
    "tools=[retriever_tool,college_data]"
   ]
  },
  {
   "cell_type": "code",
   "execution_count": 67,
   "id": "b897d455-d5d0-4a95-91e0-d2b5bfa477b1",
   "metadata": {},
   "outputs": [],
   "source": [
    "#from langchain import hub\n",
    "\n",
    "#prompt = hub.pull(\"hwchase17/openai-tools-agent\")\n",
    "#prompt\n",
    "prompt = ChatPromptTemplate.from_messages(\n",
    "    [\n",
    "        (\"system\", \"不要改变输出内容格式\"),\n",
    "        (\"placeholder\", \"{chat_history}\"),\n",
    "        (\"human\", \"{input}\"),\n",
    "        (\"placeholder\", \"{agent_scratchpad}\"),\n",
    "    ]\n",
    ")"
   ]
  },
  {
   "cell_type": "code",
   "execution_count": 86,
   "id": "d916ee75-5c3e-4eb7-8d32-dd1ea775350c",
   "metadata": {},
   "outputs": [],
   "source": [
    "from langchain.agents import AgentExecutor, create_openai_tools_agent\n",
    "\n",
    "agent = create_openai_tools_agent(llm, tools, prompt)\n",
    "agent_executor = AgentExecutor(agent=agent, tools=tools, return_intermediate_steps=True)"
   ]
  },
  {
   "cell_type": "code",
   "execution_count": null,
   "id": "c23e4434-312b-4c96-a638-9640458a9a05",
   "metadata": {},
   "outputs": [],
   "source": [
    "result = agent_executor.invoke({\"input\": \"普林斯顿大学留学\"})"
   ]
  },
  {
   "cell_type": "code",
   "execution_count": null,
   "id": "e0a671ff-70d8-4e17-83f0-024faff16cf0",
   "metadata": {},
   "outputs": [],
   "source": [
    "result"
   ]
  },
  {
   "cell_type": "code",
   "execution_count": null,
   "id": "6f5b3ac7-b4e3-4109-b7a8-183e0d7310ad",
   "metadata": {},
   "outputs": [],
   "source": []
  },
  {
   "cell_type": "code",
   "execution_count": null,
   "id": "612c16c0-68ce-43c3-a33d-a37bca33f5fb",
   "metadata": {},
   "outputs": [],
   "source": []
  },
  {
   "cell_type": "code",
   "execution_count": null,
   "id": "f683064b-b79d-4c3c-bc3a-80edf37af93b",
   "metadata": {},
   "outputs": [],
   "source": []
  },
  {
   "cell_type": "code",
   "execution_count": null,
   "id": "26616603-fba1-4d5c-bb7f-8ec7e5679485",
   "metadata": {},
   "outputs": [],
   "source": []
  },
  {
   "cell_type": "code",
   "execution_count": null,
   "id": "e911f6b8-4887-4699-8e49-0e4d63a599e4",
   "metadata": {},
   "outputs": [],
   "source": []
  },
  {
   "cell_type": "code",
   "execution_count": 2,
   "id": "aecbc926-6d68-4623-b356-a3709dd124f3",
   "metadata": {},
   "outputs": [],
   "source": [
    "colleges=pd.read_csv('.\\\\colleges\\\\colleges.csv')"
   ]
  },
  {
   "cell_type": "code",
   "execution_count": null,
   "id": "a34549be-d757-4cdb-a648-2d6a02e73ec9",
   "metadata": {},
   "outputs": [],
   "source": []
  },
  {
   "cell_type": "code",
   "execution_count": 15,
   "id": "06544645-38d8-4220-9c24-119f0be34bd4",
   "metadata": {},
   "outputs": [],
   "source": [
    "embedding=OpenAIEmbeddings(model='text-embedding-3-small')"
   ]
  },
  {
   "cell_type": "code",
   "execution_count": 35,
   "id": "cdc9ca6b-4be6-4d27-bf81-1d7cf4291ce2",
   "metadata": {},
   "outputs": [],
   "source": [
    "row_txt_format='中文名：{c}，英文名：{e}，类型：{t}，postid：{p}，unitid：{u}，所在州：{s}'\n",
    "college_types={1:'综合大学',2:'文理学院',3:'社区大学'}\n",
    "txts=[]\n",
    "for index,row in colleges.iterrows():\n",
    "    row_txt=row_txt_format.format(c=row['cname'],e=row['name'],t=college_types[row['type']],p=row['postid'],u=row['unitid'],s=row['state'])\n",
    "    txts.append(row_txt)"
   ]
  },
  {
   "cell_type": "code",
   "execution_count": 36,
   "id": "5a912e9f-a5fb-447c-90c2-eeb83ef7fc16",
   "metadata": {},
   "outputs": [],
   "source": [
    "vectors=FAISS.from_texts(txts,embedding)"
   ]
  },
  {
   "cell_type": "code",
   "execution_count": 41,
   "id": "00039f5d-dd61-47be-b956-55ab587d55ed",
   "metadata": {},
   "outputs": [],
   "source": [
    "vectors.save_local(folder_path='vector',index_name='colleges-data-vector')"
   ]
  },
  {
   "cell_type": "code",
   "execution_count": 37,
   "id": "5cb47a93-f5d7-4a45-88e6-8eb4075a57ca",
   "metadata": {},
   "outputs": [],
   "source": [
    "retriever=vectors.as_retriever()"
   ]
  },
  {
   "cell_type": "code",
   "execution_count": 40,
   "id": "b2ab9472-f1df-4dfd-882e-d041e96c2223",
   "metadata": {},
   "outputs": [
    {
     "data": {
      "text/plain": [
       "[Document(page_content='中文名：普林斯顿大学，英文名：Princeton University，类型：综合大学，postid：8413，unitid：186131，所在州：NJ'),\n",
       " Document(page_content='中文名：普林西庇亚学院，英文名：Principia College，类型：文理学院，postid：56413，unitid：148016，所在州：IL'),\n",
       " Document(page_content='中文名：迪堡大学，英文名：DePauw University，类型：文理学院，postid：37722，unitid：150400，所在州：IN'),\n",
       " Document(page_content='中文名：布朗大学，英文名：Brown University，类型：综合大学，postid：9427，unitid：217156，所在州：RI')]"
      ]
     },
     "execution_count": 40,
     "metadata": {},
     "output_type": "execute_result"
    }
   ],
   "source": [
    "retriever.invoke('princeton')"
   ]
  },
  {
   "cell_type": "code",
   "execution_count": null,
   "id": "cfd74983-3d1f-4769-b106-bf11a288e075",
   "metadata": {},
   "outputs": [],
   "source": []
  }
 ],
 "metadata": {
  "kernelspec": {
   "display_name": "Python 3 (ipykernel)",
   "language": "python",
   "name": "python3"
  },
  "language_info": {
   "codemirror_mode": {
    "name": "ipython",
    "version": 3
   },
   "file_extension": ".py",
   "mimetype": "text/x-python",
   "name": "python",
   "nbconvert_exporter": "python",
   "pygments_lexer": "ipython3",
   "version": "3.10.13"
  }
 },
 "nbformat": 4,
 "nbformat_minor": 5
}
