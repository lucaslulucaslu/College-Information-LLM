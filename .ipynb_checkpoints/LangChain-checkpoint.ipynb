{
 "cells": [
  {
   "cell_type": "code",
   "execution_count": 24,
   "id": "b5d11aa0-c7ff-4dac-960e-c5d4d94c5376",
   "metadata": {},
   "outputs": [],
   "source": [
    "import os\n",
    "from langchain_openai import ChatOpenAI\n",
    "from langchain_core.prompts import ChatPromptTemplate\n",
    "from langchain_core.output_parsers import StrOutputParser\n",
    "os.environ[\"LANGCHAIN_TRACING_V2\"] = \"true\"\n",
    "os.environ[\"LANGCHAIN_PROJECT\"] = \"college-information-llm\""
   ]
  },
  {
   "cell_type": "code",
   "execution_count": 2,
   "id": "9e91177c-c52a-47a0-828c-e9446da669b5",
   "metadata": {},
   "outputs": [],
   "source": [
    "llm = ChatOpenAI()"
   ]
  },
  {
   "cell_type": "code",
   "execution_count": 3,
   "id": "b741244f-f41c-4163-8a90-73e8876affd5",
   "metadata": {},
   "outputs": [],
   "source": [
    "from knowledgebase import TXTKnowledgeBase"
   ]
  },
  {
   "cell_type": "code",
   "execution_count": 4,
   "id": "68ab9f65-51a5-4e05-aafe-7621dac3df4f",
   "metadata": {},
   "outputs": [],
   "source": [
    "kb=TXTKnowledgeBase(txt_source_folder_path='lxbd')"
   ]
  },
  {
   "cell_type": "code",
   "execution_count": 4,
   "id": "d38a2ec4-ce65-4ba4-8dd7-a107bd6b68cb",
   "metadata": {},
   "outputs": [
    {
     "name": "stdout",
     "output_type": "stream",
     "text": [
      "=> TXT files loading and chunking done.\n",
      "=> vector initialised\n"
     ]
    },
    {
     "data": {
      "text/plain": [
       "<langchain_community.vectorstores.faiss.FAISS at 0x22ea41dc7f0>"
      ]
     },
     "execution_count": 4,
     "metadata": {},
     "output_type": "execute_result"
    }
   ],
   "source": [
    "#kb.initiate_documents()"
   ]
  },
  {
   "cell_type": "code",
   "execution_count": 5,
   "id": "9ac5bcd0-7181-4abc-8e87-ab18052be758",
   "metadata": {},
   "outputs": [],
   "source": [
    "vector=kb.return_retriever_from_persistant_vector_db()"
   ]
  },
  {
   "cell_type": "code",
   "execution_count": 27,
   "id": "e3177fbf-092f-4e2a-a880-f14b8fc5df01",
   "metadata": {},
   "outputs": [],
   "source": [
    "from langchain.chains.combine_documents import create_stuff_documents_chain\n",
    "from langchain_core.prompts import ChatPromptTemplate\n",
    "prompt = ChatPromptTemplate.from_template(\"\"\"Answer the following question based only on the provided context:\n",
    "\n",
    "<context>\n",
    "{context}\n",
    "</context>\n",
    "\n",
    "Question: {input}\"\"\")\n",
    "\n",
    "document_chain = create_stuff_documents_chain(llm, prompt)"
   ]
  },
  {
   "cell_type": "code",
   "execution_count": 28,
   "id": "b30c0611-57a1-4153-914e-7f0f5ac27846",
   "metadata": {},
   "outputs": [],
   "source": [
    "from langchain.chains import create_retrieval_chain\n",
    "\n",
    "retriever = vector.as_retriever(search_kwargs={'k':4})\n",
    "retrieval_chain = create_retrieval_chain(retriever, document_chain)"
   ]
  },
  {
   "cell_type": "code",
   "execution_count": 32,
   "id": "8a181c89-76d6-4769-9426-f9c8672c81ae",
   "metadata": {},
   "outputs": [
    {
     "name": "stdout",
     "output_type": "stream",
     "text": [
      "\n",
      "\n",
      "input: 美国博士申请成绩单认证应该怎么处理\n",
      "\n",
      "context: [Document(page_content='一、什么是官方成绩单？\\n\\n官方成绩单是由学校开具的学生成绩证明，申请留学时需要的学校官方成绩单需要经过翻译且加盖学校公章。\\n\\n二、什么时候需要用官方成绩单？\\n\\n申请美国本科和申请美国研究生需要上交官方成绩单，成绩单可以体现学生的个人能力，美国高校将成绩单列为判断该学生能否被录取的重要材料之一。\\n\\n三、官方成绩单所包含的内容有哪些？\\n\\n1、学生个人信息\\n\\n学生姓名性别院系入学日期毕业日期学位专业等\\n\\n2、 课程信息\\n\\n课程名称课程属性（必修/选修）学分成绩标准GPA专业内部排名等信息\\n\\n注意：一般国内成绩体系为百分制，GPA为5.0，和美国成绩体制较为不同，所以申请美国高校时一般需要成绩认证。具体可以参见下方“成绩单认证”部分。\\n\\n四、学生需要去哪里开具官方成绩单？\\n\\n学生到学校教务处或行政机构开具中、英文成绩单。\\n\\n需注意的是，个别学校没有成绩单模板，或者没有英文成绩单，学生需提供中、英文成绩单模板给学校，并翻译好成绩单，然后用学校抬头纸打印，并盖好公章，之后装入学校官方信封，在封口处加盖公章。\\n\\n（图片来源浙江师范大学官网）\\n\\n五、开具官方成绩单的步骤？\\n\\n准备好所有的个人身份信息文件，包含身份证、户口本、毕业证书等。 填写开具成绩单的申请表或者口头描述自己需要中英文成绩单。包括开具成绩单的原因，需要的份数等。没有成绩单模板，或者没有英文成绩单的学校学生需提供翻译好的成绩单供学校核查。注意，中英文成绩单都需要用学校的抬头纸打印。缴费，国内成绩单开具需要付款，各学校成绩单价格不同，要收据或发票。 核对无误后，在成绩单上按学校规定加盖公章。将加盖公章的中英文成绩单装入学校官方信封，封口，并在封口处加盖公章。\\n\\n六、官方成绩单示例\\n\\n使用学校抬头纸（学校官方文件纸）打印中、英文成绩单。落款处有学校公章，成绩单需放入学校官方信封，封口，在封口处加盖学校公章。\\n\\n（高中成绩单示例）\\n\\n（大学成绩单示例） 七、怎样寄送官方成绩单到申请院校？ 1、地址 申请美国本科及研究生，需要寄送官方成绩单（Official Transcript）到学校指定的地址，通常指学校负责招生的部门，但也要注意学校的具体要求，学校官网针对寄送成绩单的部分会标明接收成绩单的具体地址。 比如：国际生在申请耶鲁大学时需要把申请材料寄送到一个单独的地址。 对于通过U.S Postal Service寄送材料的学生，请寄送材料至： Office of Undergraduate Admissions Yale University P.O. Box 208234 New Haven, Connecticut 06520-8234 通过 FedEX , UPS, TNT, DHL 或者其他邮递机构寄送材料的学生，请将材料寄送至： Office of Undergraduate Admissions 38 Hillhouse Avenue New Haven, Connecticut 06511 如果是通过传真的话，传真至：（203）436-9775 2、 邮寄公司 学生需选择有效及安全快捷的国际快递来寄送成绩单。一般来说，EMS、DHL、UPS及FedEx是学生多选的国际速递。\\n\\n（信封写法示例）', metadata={'source': 'lxbd\\\\14990.txt'}), Document(page_content='现如今，出国留学已经成为一大潮流，而对于中国学生而言，美国依然是留学生执着不变的第一选择。那么，在这股美国大学申请的潮流中，留学生应该怎样开始自己的申请之旅呢？又怎样才能提高自己被美国大学录取的成功率呢？下面，我们就一起来看看美国大学申请过程中的最重要环节之一-成绩提交中，都有哪些注意事项吧! 一、什么是成绩认证？ 成绩单认证，在英文中多显示为“Course/Grades Evaluation”“Course by Course Credential Evaluation”“Trans Evaluation”等，指的是由申请院校选定的某个或几个第三方认证机构对中国学生成绩单中的课程、分数、GPA (绩点)、学历等做出评估、计算、审核及认证。 二、为什么需要学生去认证成绩单 由于国内每所院校的成绩评定都有略微差异，有的学校GPA总分是5.0，有的学校是4.0，而美国大学为了保证一定的公平性（大部分情况下也是学校为了省时省事），会要求学生进行成绩认证，可以选择的成绩单认证机构有哪些？ WES（World Education Services）ECE（Educational Credential Evaluators）。“教育部学位与研究生教育发展中心” （China Academic Degree and Graduate Education Development Center，CDGDC）Josef Silny & Associates, Inc.\\n\\n上述四个机构提供学位证书、成绩及相关材料的认证、鉴定等服务。具体选用哪个要查看学生申请学校的要求。\\n\\n三、认证成绩单的步骤\\n\\n1、准备相关材料。包括需要认证的成绩单中英文扫描件、身份证扫描件、护照扫描件、毕业证扫描件等。2、在所选机构官网注册并选择所需的认证种类，提出认证申请。3、选择份数，缴费。4、按照要求寄送相关材料。包括需要认证的成绩单中英文扫描件、身份证扫描件、护照扫描件、毕业证扫描件等。5、成绩认证完成后，机构会通知学生，有些是邮件或手机通知，有些需要学生自己上官网查询。成绩认证的结果会有电子版和纸质版两种。纸质版会由认证机构邮寄到申请人要求的地址。6、不同机构成绩认证的时间长短不定，一般在14个工作日至30个工作日不等，所以需要成绩认证的同学需要提早准备。\\n\\n四、怎样寄送成绩单到第三方成绩认证机构\\n\\n按照第三方成绩认证机构的要求，所有申请材料一般不接受面交及电子邮寄。学生在提出申请并且缴纳申请费用后应尽快寄送所有需要的文件和材料。学生需选择有效及安全快捷的国际快递来寄送相关文件。 一般来说，EMS、DHL、UPS及FedEx是学生多选的国际速递。一般寄送文件时，学生需将所有的文件放入一个文件袋，在此需注意的是，有些机构要求上交扫描版即可，有些机构要求上交官方成绩单，官方成绩单一定要放在学校官方密封信封内，并且在封口处加盖学校公章。\\n\\n五、美国留学三大成绩认证公司介绍\\n\\n1、WES (World Education Service)\\n\\nWES总部位于纽约布鲁克林，是全美最大的评估机构，在北京设有办事处。申请成绩认证时候可通过官网 http://www.wes.org/登陆，按照官网提示一步一步进行申请，费用为260刀。需要注意的是，WES很适合需要转学的同学们，因为WES在学分认证时相比较其他两家机构宽松一些，给的绩点也会稍微高一点（但不绝对）。因此有一部分需要转学的同学就会获得相对较多的可转换的学分。但是，WES通常需要同学们提交国家教委认证中心的认证报告，如此一来，需要成绩认证的同学们就需要等待更久的时间，还要多花100刀。另外对于大四在读的同学们来说，只要提交扫描件即可，不需要寄送。\\n\\n2、Josef Silny\\n\\n总部位于佛罗里达迈阿密，需要认证的同学可以登陆官网 http://www,Jsilny.com，Josef Silny对学生GPA核算比较严格，一般90\\n\\n100为A，80\\n\\n89为B，70\\n\\n79为C，60\\n\\n69为C\\n\\n，但是如果学生的原始成绩单上标明本校的成绩认定标准，例如95以上为A，90\\n\\n95为A\\n\\n，85\\n\\n90为B+……这种情况下，Josef Silny也会根据学校标准给出对应等级。对于需要转学的学生来说，需要提醒的是，Josef Silny在转换学分方面处于ECE和WES之间。另外对于要考CPA的同学，该机构只收130刀，价格仅仅为WES的一半，性价比还是很高的。另外，成绩评定周期平均在两周左右（慢的时候要三周到四周），是三家中相对比较快的，如果需要加急，5天就可以出认定结果。\\n\\n3、ECE（Educational Credential Evaluators）\\n\\nECE总部位于威斯康星密尔沃基市，官网为http://www.ece.org，ECE可以说是三家认证机构中最严格的，对于申请研究生的同学们来说，会选择Course By Course 的认证方法，因为认证标准相比较其他两家都会严格很多，所以对想从国内大学转学到美国大学的学生，会有转学分的损失，并且GPA可能也会相对变低。例如：小A在国内大学的数学课得分78分，ECE评估后如果是C\\n\\n，在转学到美国大学时，美国的学校是不接受C\\n\\n课程的转学分。\\n\\nECE最新公布的认证周期为10天左右，并且增加了加急服务（可参见网站详情：https://www.ece.org/ECE/Agencies/Our\\n\\nServices）。ECE常规成绩认证的费用为195刀。一个工作日加急（只针对常规的认证）费用为200刀，5个工作日加急费用为80刀。\\n\\n六、WES Report成绩单认证步骤 点击开始申请（APPLY NOW) 根据要求创建账户 进入My Application页面，按要求填写个人信息后即可注册成功注册成功后，点击log in重新登陆，并再次核对个人信息按照提示步骤填写信息 填写完所有信息后会出现核对页面，自己检查所有信息，保证正确无误 缴费，付款成功后保存Reference号码 注意：WES所要求的毕业证明，成绩单等材料都需要由CDGDC认证，在线认证地址：http://www.cdgdc.edu.cn/cn/，学生只需要按照网站规定的步骤进行认证即可。', metadata={'source': 'lxbd\\\\15782.txt'}), Document(page_content='教育部已于2020年11月1日起取消留学生回国证明的办理，大家可以跳过该文章的内容。\\n\\n一、什么人可以办理留学生回国证明 在美国学习、交流访问、科研进修满六个月并获得美国正规高等学校学位的留学人员，确定回国定居前可以办理留学生回国证明。 二、为什么要办理留学生回国证明 作为留学生留学经历的官方证明，留学生学成回国后如果想要购买免税车辆、享受国家或地方对留学生的各种优惠政策或者准备就业落户，都需要以留学生回国证明为材料认证。 三、什么时间办理留学生回国证明 准备回国生活、发展事业的学生在回国前可以在美国办理留学生回国证明。已经回国的学生在需要留学经历证明材料时也可以在中国办理。 四、去哪里办理留学回国证明 现在办理留学回国证明的方式只有一种：邮寄办理。邮寄地址： New York Service Center for Chinese Study Fellows 90 John Street，Suite 701 New York, NY 10038 五、怎么办理留学生回国证明 1、材料清单（办理留学生回国证明需要哪些材料） （1）护照复印件。学生需要复印个人信息页、第一次赴美入境签证页、美国入境章页面（需用红笔圈出日期）。如果学生已经回国，还需要提供回国入境章页面的复印件（同样需要用红笔圈出日期）。 （2）I-94卡 （3）回国单程机票复印件（电子机票打印件也可以，机票上要有个人信息、电子票号和行程信息） （4）留美期间所有阶段的签证表复印件。例如I-20表、DS-2019表或者797A/B表等。同一学习阶段如果有多份签证表，则只需提供最后一份。 （5）留美学习证明。学位证书复印件、官方成绩单原件（需要密封）\\n\\n博士后、访问学者以及其他留学人员，需要提供留学单位的录取通知书复印件和导师证明信原件、或者美国留学单位的证明信原件。\\n\\n如果是有H1B工作的签证的博士后，还需要提供博士学位证书的复印件、博士后录取通知书复印件、导师提供的证明留学人员完成博士后研究的证明信原件。如果没有录取通知书，则需要留学单位的人力资源部提供证明信（原件）。\\n\\n高级研究学者需要留学单位的人力资源部门提供证明信原件，其中要标明留学人员拥有Associate Professor/Senior Scientist 或以上职称。\\n\\n（注：留学单位指美国高等学校或科研机构。）\\n\\n（6）中国学校证明信复印件。只有参加合作办学项目、交流项目或自费联合培养项目的学生需要提供。\\n\\n（7）含转学分情况的美国官方成绩复印件。只有短时间攻读学位的学生需要提供（如3年获得本科学位）。\\n\\n（8）国家留学基金委/中科院公派资格证书的复印件。只有公派留学人员需要提供。\\n\\n（9）学位证书英语翻译件复印件，或英文毕业证明信原件。只有获得的美国学位证书为非英文的学生需要提供。这些证明必须有获得学位的日期以及学位种类的说明。\\n\\n2、申请程序（办理留学生回国证明的步骤）\\n\\n（1）在纽约中国留学服务中心注册。\\n\\n（2）在纽约留学服务中心留学人员登记系统完善个人信息\\n\\n（3）填写《回国证明》申请表并提交\\n\\n（4）打印确认信。申请人提交申请后会收到官方确认信。\\n\\n（5）邮寄申请材料。将确认信放到首页，将所有申请材料寄送到纽约中国留学服务中心。在信封上要写明“留学回国人员证明”。\\n\\n注意：在线提交申请并获得确认信后应该尽快邮寄材料，因为申请人的申请信息只会保留45天，过期则无效。材料需要一次性提交，不可分批次提交。\\n\\n希望归国的留学生能够一切顺利，美国留学归国后向自己的梦想更进一步。', metadata={'source': 'lxbd\\\\13610.txt'}), Document(page_content='认证美国学位前需要了解的一些信息\\n\\n中国教育部留学服务中心的国（境）外学历学位认证（留服认证）是正规且唯一有效的学历学位认证，如果是针对美国毕业的留学生，留信认证、学信认证均无法认证美国的学历学位，具体可参考下面两篇文章：\\n\\n留学归国认证学历，留信认证和留服认证应该怎么选？\\n\\n快毕业了！别慌！手把手教你在学信网上进行学历认证\\n\\n一、 申请材料\\n\\n1、照片\\n\\n一张近期证件照片，底色不限\\n\\n2、语言证书\\n\\n需认证的国外源语言（颁发证书院校国家的官方语言）学位证书或高等教育文凭证书；为保证认证办理进程，请同时持有国外源语言证书及英语证书的申请人，在提交源语言证书时，一并提交英语证书；已毕业但尚未取得学位证书者，请提供就读学校出具的已获学位的证明信\\n\\n3、护照页\\n\\n申请者留学期间所有护照（含护照首页\\n\\n个人信息页、末页\\n\\n本人签字页、以及留学期间的所有签证记录和出入境记录）。如果申请者留学期间护照已超出有效期限，还需提供在有效期限内的护照个人信息页或其他有效身份证件个人信息页\\n\\n4、授权声明\\n\\n申请者亲笔填写的授权声明；下载地址：http://new.chinesehighway.com/resources/xlxwrz/sqsm.pdf\\n\\n此外，申请者视不同情况可能需要提供如下信息（以下材料均需准备原件和复印件）：\\n\\n5、官方成绩单\\n\\n成绩单虽已非国（境）外学历学位认证的必须材料，但考虑到许多高校所颁发的成绩单或者文凭附录文件（即diploma supplement）包含申请人的重要信息，因此如您持有与证书配套的成绩单或文凭附录文件，请提交其电子版。\\n\\n（1）如您有1/3以上的（含1/3）学分在其他学校学习获得，为加速认证工作进程，请提供这部分学分的成绩单或学习经历证明。具体包括：\\n\\n如该部分成绩来自于境外学习经历，需提供所获的证书（如没有证书可提供成绩单或学习经历证明），同时提供该阶段的签证和出入境记录（出入境记录可在I\\n\\n94网站查询）；如该部分成绩来自于境内学习经历，需提供境内院校毕业证书，若未颁发毕业证书需提供境内院校开具的学习经历证明；\\n\\n（2）如您主要通过研究方式学习获得的学位证书，请提供学校职能部门（如学院、学籍注册部门或学生管理部门）开具的研究证明信原件和复印件，一般情况下，研究证明信内容包含学习起止日期、专业名称、研究方向、所授予学位等信息。\\n\\n（3）对于尚未颁发学位证书但持有所就读学校出具的已获得学位的证明信的申请人，可提供该证明信（如有成绩单，也可一并提供）。\\n\\n（4）如申请者无法提供留学期间护照的，请提供如下3项材料：\\n\\n申请者亲笔签名的无法提交留学期间护照的情况说明。新护照首页或身份证或户籍簿。我国省市公安机关所属出入境管理部门开具的留学期间出入境记录证明，或者其他其它海外居留情况信息。\\n\\n（5）港澳台居民请提交港澳居民来往内地通行证或台湾居民来往大陆通行证。\\n\\n特别提醒事项：\\n\\n（1）认证申请所需所有材料均仅需电子版，请勿将申请材料原件寄至我中心，以免丢失或出现其他意外。\\n\\n（2）在提交申请的过程中，需申请者本人对认证申请信息和材料的完整性、真实性、准确性进行确认。\\n\\n（3）目前，国外学历学位认证申请已不再要求申请人提交《留学人员回国证明》，但由于留学回国人员在购买免税车辆、办理部分省市落户手续、享受国家及各地针对留学回国人员的各项优惠政策时，仍需提交《留学回国人员证明》，因此我们建议留学人员在归国之前尽早开具《留学回国人员证明》并妥善保管。\\n\\n（4）请申请人务必按照示例要求上传相关文件原件的彩色扫描件，否则可能会延长您的认证评估时间或需要您重新上传有关材料，甚至导致认证失败。\\n\\n（5）请申请人注意，凡2018年1月1日之后递交的申请材料，均不需再提供翻译公司出具的中文翻译件。\\n\\n二、申请程序\\n\\n申请人在中国（教育部）留学服务中心认证系统注册，根据系统提示（或参见《认证申请者使用手册》）填写申请人信息、上传电子版认证申请材料，并在提交认证申请且成功缴纳相应认证申请费用后即完成申请，之后申请人等待最终认证结果即可，不必再到验证机构递交纸质申请材料。\\n\\n请申请人注意，如果某些机构声称可以代理认证申请或可提供认证咨询，均为虚假宣传。这些机构一般通过网络或在线即时通讯工具进行虚假宣传，他们利用一些申请者暂时缺少某项申请材料而又急于认证的心理，吹嘘可以为申请者准备材料，借机收取高额费用，但真实的情况往往是他们制造虚假材料。在此，特别提醒申请者千万不要上当受骗。如遇可疑情况，可拨打中国（教育部）留学服务中心咨询电话：010\\n\\n62677800。\\n\\n三、收费标准\\n\\n每件学历学位认证验证服务费为360元人民币。\\n\\n四、认证时间\\n\\n在保证申请材料正确且完整的情况下，美国学历认证在10个工作日内就能完成。\\n\\n五、认证结果领取方法\\n\\n学历学位认证的结果由中国（教育部）留学服务中心直接EMS特快专递邮寄给认证申请者。特别提醒认证申请者，必须在认证申请系统中正确填写收件人姓名、地址、电话等，以免出现认证结果无法按时寄达的问题。认证申请网上提交后，邮寄地址将不能更改。在认证结果寄出的同时，认证系统将会发送邮件及短信通知，申请人根据通知可在认证系统中查询到EMS单号，并据此单号在“全国邮政特快专递”官网进行快件查询。', metadata={'source': 'lxbd\\\\16272.txt'})]\n",
      "\n",
      "answer: 根据提供的上下文，美国博士申请成绩单认证的步骤如下：\n",
      "\n",
      "1. 准备相关材料，包括需要认证的成绩单中英文扫描件、身份证扫描件、护照扫描件、毕业证扫描件等。\n",
      "2. 在所选机构官网注册并选择所需的认证种类，提出认证申请。\n",
      "3. 选择需要的份数并缴费。\n",
      "4. 按照要求寄送相关材料，包括需要认证的成绩单中英文扫描件、身份证扫描件、护照扫描件、毕业证扫描件等。\n",
      "5. 成绩认证完成后，机构会通知申请人，结果会有电子版和纸质版两种。纸质版会由认证机构邮寄到申请人要求的地址。\n",
      "\n",
      "此外，对于博士申请者，如果主要通过研究方式学习获得学位证书，还需要提供学校职能部门开具的研究证明信原件和复印件，内容包括学习起止日期、专业名称、研究方向、所授予学位等信息。"
     ]
    }
   ],
   "source": [
    "response_stream=retrieval_chain.stream({\"input\": \"美国博士申请成绩单认证应该怎么处理\"})\n",
    "output={}\n",
    "curr_key = None\n",
    "for chunk in response_stream:\n",
    "    for key in chunk:\n",
    "        if key not in output:\n",
    "            output[key] = chunk[key]\n",
    "        else:\n",
    "            output[key] += chunk[key]\n",
    "        if key != curr_key:\n",
    "            print(f\"\\n\\n{key}: {chunk[key]}\", end=\"\", flush=True)\n",
    "        else:\n",
    "            print(chunk[key], end=\"\", flush=True)\n",
    "        curr_key = key"
   ]
  },
  {
   "cell_type": "code",
   "execution_count": 18,
   "id": "fe8ed497-3fd9-4a20-a413-95e82d04026a",
   "metadata": {},
   "outputs": [
    {
     "data": {
      "text/plain": [
       "{'answer': ''}"
      ]
     },
     "execution_count": 18,
     "metadata": {},
     "output_type": "execute_result"
    }
   ],
   "source": [
    "r"
   ]
  },
  {
   "cell_type": "code",
   "execution_count": 11,
   "id": "a8e6fa16-437e-4e99-9e2a-83d654829e81",
   "metadata": {},
   "outputs": [],
   "source": [
    "from langchain.chains import create_history_aware_retriever\n",
    "from langchain_core.prompts import MessagesPlaceholder\n",
    "\n",
    "# First we need a prompt that we can pass into an LLM to generate this search query\n",
    "\n",
    "prompt = ChatPromptTemplate.from_messages([\n",
    "    MessagesPlaceholder(variable_name=\"chat_history\"),\n",
    "    (\"user\", \"{input}\"),\n",
    "    (\"user\", \"Given the above conversation, generate a search query to look up to get information relevant to the conversation\")\n",
    "])\n",
    "retriever_chain = create_history_aware_retriever(llm, retriever, prompt)\n",
    "\n",
    "#\n",
    "\n",
    "prompt = ChatPromptTemplate.from_messages([\n",
    "    (\"system\", \"Answer the user's questions based on the below context:\\n\\n{context}\"),\n",
    "    MessagesPlaceholder(variable_name=\"chat_history\"),\n",
    "    (\"user\", \"{input}\"),\n",
    "])\n",
    "document_chain = create_stuff_documents_chain(llm, prompt)\n",
    "\n",
    "retrieval_chain = create_retrieval_chain(retriever_chain, document_chain)\n"
   ]
  },
  {
   "cell_type": "code",
   "execution_count": 12,
   "id": "09590742-d0f9-4c38-8998-7964bfc43c57",
   "metadata": {},
   "outputs": [
    {
     "data": {
      "text/plain": [
       "'在美国，大学本科学位持有者和研究生学位持有者都可以申请攻读博士学位。通常来说，本科申请博士的要求更高，需要具备出色的科研背景和学术成就。如果没有相关的研究经历和发表文章，通常更倾向于持有研究生学位的申请者。博士学位是美国教育体系中的最高学位，获得博士学位意味着已经在学术领域达到了高水平，具备独立从事科学研究工作的能力。博士学位持有者在就业市场上通常具有更多的机会和竞争力。'"
      ]
     },
     "execution_count": 12,
     "metadata": {},
     "output_type": "execute_result"
    }
   ],
   "source": [
    "from langchain_core.messages import HumanMessage, AIMessage\n",
    "\n",
    "chat_history = [HumanMessage(content=\"美国大学可以申请博士吗？\"), AIMessage(content=\"可以！\")]\n",
    "response=retrieval_chain.invoke({\n",
    "    \"chat_history\": chat_history,\n",
    "    \"input\": \"详细解释一下\"\n",
    "})\n",
    "response['answer']"
   ]
  }
 ],
 "metadata": {
  "kernelspec": {
   "display_name": "Python 3 (ipykernel)",
   "language": "python",
   "name": "python3"
  },
  "language_info": {
   "codemirror_mode": {
    "name": "ipython",
    "version": 3
   },
   "file_extension": ".py",
   "mimetype": "text/x-python",
   "name": "python",
   "nbconvert_exporter": "python",
   "pygments_lexer": "ipython3",
   "version": "3.10.13"
  }
 },
 "nbformat": 4,
 "nbformat_minor": 5
}
