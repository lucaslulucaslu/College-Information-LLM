{
 "cells": [
  {
   "cell_type": "code",
   "execution_count": 1,
   "id": "f96edce8-6eca-4419-8e27-268d3959da5a",
   "metadata": {},
   "outputs": [],
   "source": [
    "import requests\n",
    "from bs4 import BeautifulSoup\n",
    "import pandas as pd"
   ]
  },
  {
   "cell_type": "code",
   "execution_count": 2,
   "id": "dbecc598-13fb-4a6e-823a-60d3c55fa567",
   "metadata": {},
   "outputs": [],
   "source": [
    "df=pd.read_csv('.\\\\lxsq\\\\lxsq.csv')"
   ]
  },
  {
   "cell_type": "code",
   "execution_count": 4,
   "id": "aea619e2-561b-4dcf-9b88-5dd3933ce4ac",
   "metadata": {},
   "outputs": [],
   "source": [
    "posts=df['object_id'].to_list()"
   ]
  },
  {
   "cell_type": "code",
   "execution_count": null,
   "id": "b1a2c01a-9dad-4287-bd04-44f1fff7d8c1",
   "metadata": {},
   "outputs": [],
   "source": [
    "posts"
   ]
  },
  {
   "cell_type": "code",
   "execution_count": 51,
   "id": "3e38659e-b89e-4f60-ae5e-6a8bfff01149",
   "metadata": {},
   "outputs": [],
   "source": [
    "#留学宝典posts\n",
    "posts=[8361,13134,13610,13928,13975,13987,14004,14066,14073,14154,14170,14202,14208,14219,14240,14278,14288,14301,14306,14326,14338,14406,14411,14479,14519,14523,14524,14528,14539,14984,14987,14990,15017,15020,15176,15195,15199,15236,15782,15803,15807,15814,15836,15840,15846,15848,15864,15874,15887,16069,16074,16083,16086,16133,16139,16189,16201,16211,16230,16236,16250,16263,16272,16278,16286,16292,16298,16395,16405,16425,16444,16455,16458,16464,16468,16478,16487,16494,16507,16600,16606,16618,16633,16642,16669,16673,16691,16757,16766,16780,16837,16844,16855,16871,16951,16959,16967,16973,16991,16999,17003,17051,17339,17349,17364,17375,17422,17468,20204,20219,20231,20590,20604,20611,20899,20911,20912,20913,21184,21489,21490,21491,21492,23997,24022,24028,24030,24031,24032,24197,24198,24199,24200,24201,24202,24203,24379,24380,24381,24382,24383,24384,24385,24386,24579,24580,24581,24583,24584,24585,24586,24587,24588,24590,24947,24948,24949,24950,24951,24952,24953,24954,24955,24956,25248,25249,25250,25251,28732,30229,30313,31349,31586,31643,31655,31662,33447,33449,34050,34183,34190,34594,34602,34704,34765,34815,35487,35493,36572,37409,37488,42201,42273,44307,54745,54890,63925,65063,65762,68927,69373,69382,69406,69866,75808,75809,75810,75811,75812,75813,75965,79213,80110,80151,81723,96076]\n",
    "folder='.\\\\lxbd\\\\'"
   ]
  },
  {
   "cell_type": "code",
   "execution_count": 52,
   "id": "c752f3c3-0bfb-43bf-8ea0-199e27cedd91",
   "metadata": {},
   "outputs": [],
   "source": [
    "for post in posts:\n",
    "    URL='https://www.forwardpathway.com/'+str(post)\n",
    "    page=requests.get(URL)\n",
    "    soup=BeautifulSoup(page.content,\"html.parser\")\n",
    "    post_content=soup.find(\"div\",{\"class\":\"entry-content\"})\n",
    "    if post_content is not None:\n",
    "        elements=post_content.findAll(\n",
    "            True,\n",
    "            {\n",
    "                \"class\":[\n",
    "                    \n",
    "                    \"crp_related\",\n",
    "                    \"topBanner\",\n",
    "                    \"bottomBanner\",\n",
    "                    \"wp-block-advgb-summary\",\n",
    "                    \"yoast-table-of-contents\",\n",
    "                    \"exclusiveStatement\",\n",
    "                    \"companyLocation\",\n",
    "                    \"CommentsAndShare\",\n",
    "                    'AI_Summary',\n",
    "                    'AI_QA',\n",
    "                    'btn-group'\n",
    "                ]\n",
    "            }\n",
    "        )\n",
    "        for element in elements:\n",
    "            element.decompose()\n",
    "        elements=post_content.findAll(['svg','figure'])\n",
    "        for element in elements:\n",
    "            element.decompose()\n",
    "\n",
    "    filename=str(post)+'.txt'\n",
    "    f=open(folder+filename,'w',encoding='utf-8')\n",
    "    f.write(post_content.get_text())\n",
    "    f.close()"
   ]
  },
  {
   "cell_type": "code",
   "execution_count": null,
   "id": "a1ab1f7e-54c4-4e75-82fd-d00e2b82af54",
   "metadata": {},
   "outputs": [],
   "source": []
  }
 ],
 "metadata": {
  "kernelspec": {
   "display_name": "Python 3 (ipykernel)",
   "language": "python",
   "name": "python3"
  },
  "language_info": {
   "codemirror_mode": {
    "name": "ipython",
    "version": 3
   },
   "file_extension": ".py",
   "mimetype": "text/x-python",
   "name": "python",
   "nbconvert_exporter": "python",
   "pygments_lexer": "ipython3",
   "version": "3.10.13"
  }
 },
 "nbformat": 4,
 "nbformat_minor": 5
}
