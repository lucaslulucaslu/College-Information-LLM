{
 "cells": [
  {
   "cell_type": "code",
   "execution_count": 1,
   "id": "f96edce8-6eca-4419-8e27-268d3959da5a",
   "metadata": {},
   "outputs": [],
   "source": [
    "import requests\n",
    "from bs4 import BeautifulSoup\n",
    "import pandas as pd"
   ]
  },
  {
   "cell_type": "code",
   "execution_count": 2,
   "id": "dbecc598-13fb-4a6e-823a-60d3c55fa567",
   "metadata": {},
   "outputs": [],
   "source": [
    "df=pd.read_csv('.\\\\lxsq\\\\csv\\\\lxsq.csv')"
   ]
  },
  {
   "cell_type": "code",
   "execution_count": 3,
   "id": "aea619e2-561b-4dcf-9b88-5dd3933ce4ac",
   "metadata": {},
   "outputs": [],
   "source": [
    "posts=df['object_id'].to_list()"
   ]
  },
  {
   "cell_type": "code",
   "execution_count": 4,
   "id": "3e38659e-b89e-4f60-ae5e-6a8bfff01149",
   "metadata": {},
   "outputs": [],
   "source": [
    "folder='.\\\\lxsq\\\\'"
   ]
  },
  {
   "cell_type": "code",
   "execution_count": null,
   "id": "c752f3c3-0bfb-43bf-8ea0-199e27cedd91",
   "metadata": {},
   "outputs": [],
   "source": [
    "for post in posts:\n",
    "    URL='https://www.forwardpathway.com/'+str(post)\n",
    "    page=requests.get(URL)\n",
    "    soup=BeautifulSoup(page.content,\"html.parser\")\n",
    "    post_content=soup.find(\"div\",{\"class\":\"entry-content\"})\n",
    "    if post_content is not None:\n",
    "        elements=post_content.findAll(\n",
    "            True,\n",
    "            {\n",
    "                \"class\":[\n",
    "                    \n",
    "                    \"crp_related\",\n",
    "                    \"topBanner\",\n",
    "                    \"bottomBanner\",\n",
    "                    \"wp-block-advgb-summary\",\n",
    "                    \"yoast-table-of-contents\",\n",
    "                    \"exclusiveStatement\",\n",
    "                    \"companyLocation\",\n",
    "                    \"CommentsAndShare\",\n",
    "                    'AI_Summary',\n",
    "                    'AI_QA',\n",
    "                    'btn-group'\n",
    "                ]\n",
    "            }\n",
    "        )\n",
    "        for element in elements:\n",
    "            element.decompose()\n",
    "        elements=post_content.findAll(['svg','figure'])\n",
    "        for element in elements:\n",
    "            element.decompose()\n",
    "    if post_content:\n",
    "        filename=str(post)+'.txt'\n",
    "        f=open(folder+filename,'w',encoding='utf-8')\n",
    "        f.write(post_content.get_text())\n",
    "        f.close()"
   ]
  },
  {
   "cell_type": "code",
   "execution_count": null,
   "id": "a1ab1f7e-54c4-4e75-82fd-d00e2b82af54",
   "metadata": {},
   "outputs": [],
   "source": []
  }
 ],
 "metadata": {
  "kernelspec": {
   "display_name": "Python 3 (ipykernel)",
   "language": "python",
   "name": "python3"
  },
  "language_info": {
   "codemirror_mode": {
    "name": "ipython",
    "version": 3
   },
   "file_extension": ".py",
   "mimetype": "text/x-python",
   "name": "python",
   "nbconvert_exporter": "python",
   "pygments_lexer": "ipython3",
   "version": "3.10.13"
  }
 },
 "nbformat": 4,
 "nbformat_minor": 5
}
