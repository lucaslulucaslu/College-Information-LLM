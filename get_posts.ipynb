{
 "cells": [
  {
   "cell_type": "code",
   "execution_count": 6,
   "id": "f96edce8-6eca-4419-8e27-268d3959da5a",
   "metadata": {},
   "outputs": [],
   "source": [
    "import requests\n",
    "from bs4 import BeautifulSoup\n",
    "import pandas as pd"
   ]
  },
  {
   "cell_type": "code",
   "execution_count": 7,
   "id": "dbecc598-13fb-4a6e-823a-60d3c55fa567",
   "metadata": {},
   "outputs": [],
   "source": [
    "df=pd.read_csv('.\\\\lxsq\\\\csv\\\\lxsq.csv')"
   ]
  },
  {
   "cell_type": "code",
   "execution_count": 8,
   "id": "aea619e2-561b-4dcf-9b88-5dd3933ce4ac",
   "metadata": {},
   "outputs": [],
   "source": [
    "posts=df['object_id'].to_list()"
   ]
  },
  {
   "cell_type": "code",
   "execution_count": 9,
   "id": "3e38659e-b89e-4f60-ae5e-6a8bfff01149",
   "metadata": {},
   "outputs": [],
   "source": [
    "folder='.\\\\lxsq\\\\'"
   ]
  },
  {
   "cell_type": "code",
   "execution_count": 10,
   "id": "c752f3c3-0bfb-43bf-8ea0-199e27cedd91",
   "metadata": {},
   "outputs": [
    {
     "ename": "AttributeError",
     "evalue": "'NoneType' object has no attribute 'get_text'",
     "output_type": "error",
     "traceback": [
      "\u001b[1;31m---------------------------------------------------------------------------\u001b[0m",
      "\u001b[1;31mAttributeError\u001b[0m                            Traceback (most recent call last)",
      "Cell \u001b[1;32mIn[10], line 34\u001b[0m\n\u001b[0;32m     32\u001b[0m filename\u001b[38;5;241m=\u001b[39m\u001b[38;5;28mstr\u001b[39m(post)\u001b[38;5;241m+\u001b[39m\u001b[38;5;124m'\u001b[39m\u001b[38;5;124m.txt\u001b[39m\u001b[38;5;124m'\u001b[39m\n\u001b[0;32m     33\u001b[0m f\u001b[38;5;241m=\u001b[39m\u001b[38;5;28mopen\u001b[39m(folder\u001b[38;5;241m+\u001b[39mfilename,\u001b[38;5;124m'\u001b[39m\u001b[38;5;124mw\u001b[39m\u001b[38;5;124m'\u001b[39m,encoding\u001b[38;5;241m=\u001b[39m\u001b[38;5;124m'\u001b[39m\u001b[38;5;124mutf-8\u001b[39m\u001b[38;5;124m'\u001b[39m)\n\u001b[1;32m---> 34\u001b[0m f\u001b[38;5;241m.\u001b[39mwrite(\u001b[43mpost_content\u001b[49m\u001b[38;5;241;43m.\u001b[39;49m\u001b[43mget_text\u001b[49m())\n\u001b[0;32m     35\u001b[0m f\u001b[38;5;241m.\u001b[39mclose()\n",
      "\u001b[1;31mAttributeError\u001b[0m: 'NoneType' object has no attribute 'get_text'"
     ]
    }
   ],
   "source": [
    "for post in posts:\n",
    "    URL='https://www.forwardpathway.com/'+str(post)\n",
    "    page=requests.get(URL)\n",
    "    soup=BeautifulSoup(page.content,\"html.parser\")\n",
    "    post_content=soup.find(\"div\",{\"class\":\"entry-content\"})\n",
    "    if post_content is not None:\n",
    "        elements=post_content.findAll(\n",
    "            True,\n",
    "            {\n",
    "                \"class\":[\n",
    "                    \n",
    "                    \"crp_related\",\n",
    "                    \"topBanner\",\n",
    "                    \"bottomBanner\",\n",
    "                    \"wp-block-advgb-summary\",\n",
    "                    \"yoast-table-of-contents\",\n",
    "                    \"exclusiveStatement\",\n",
    "                    \"companyLocation\",\n",
    "                    \"CommentsAndShare\",\n",
    "                    'AI_Summary',\n",
    "                    'AI_QA',\n",
    "                    'btn-group'\n",
    "                ]\n",
    "            }\n",
    "        )\n",
    "        for element in elements:\n",
    "            element.decompose()\n",
    "        elements=post_content.findAll(['svg','figure'])\n",
    "        for element in elements:\n",
    "            element.decompose()\n",
    "\n",
    "    filename=str(post)+'.txt'\n",
    "    f=open(folder+filename,'w',encoding='utf-8')\n",
    "    f.write(post_content.get_text())\n",
    "    f.close()"
   ]
  },
  {
   "cell_type": "code",
   "execution_count": null,
   "id": "a1ab1f7e-54c4-4e75-82fd-d00e2b82af54",
   "metadata": {},
   "outputs": [],
   "source": []
  }
 ],
 "metadata": {
  "kernelspec": {
   "display_name": "Python 3 (ipykernel)",
   "language": "python",
   "name": "python3"
  },
  "language_info": {
   "codemirror_mode": {
    "name": "ipython",
    "version": 3
   },
   "file_extension": ".py",
   "mimetype": "text/x-python",
   "name": "python",
   "nbconvert_exporter": "python",
   "pygments_lexer": "ipython3",
   "version": "3.10.13"
  }
 },
 "nbformat": 4,
 "nbformat_minor": 5
}
