{
 "cells": [
  {
   "cell_type": "code",
   "execution_count": 1,
   "id": "b6a8c3ed-bbd2-4fd6-8a7e-2d6a50579e8d",
   "metadata": {},
   "outputs": [],
   "source": [
    "import os\n",
    "os.environ[\"LANGCHAIN_TRACING_V2\"] = \"true\"\n",
    "os.environ[\"LANGCHAIN_PROJECT\"] = 'college-information-llm'"
   ]
  },
  {
   "cell_type": "markdown",
   "id": "76c1de81-8c0c-46f3-97c9-39dabeaf98d4",
   "metadata": {},
   "source": [
    "-----------------Documents Retriever-------------------------"
   ]
  },
  {
   "cell_type": "code",
   "execution_count": 2,
   "id": "acdc6a9a-8533-40a6-8829-157fe125617c",
   "metadata": {},
   "outputs": [],
   "source": [
    "from knowledgebase import TXTKnowledgeBase\n",
    "SEARCH_DOCS_NUM=2\n",
    "\n",
    "kb=TXTKnowledgeBase(txt_source_folder_path='lxbd')\n",
    "vector=kb.return_retriever_from_persistant_vector_db()\n",
    "\n",
    "documents_retriever = vector.as_retriever(search_kwargs={'k':SEARCH_DOCS_NUM})"
   ]
  },
  {
   "cell_type": "markdown",
   "id": "25f7695c-7842-43a6-86c8-6aa001c05e98",
   "metadata": {},
   "source": [
    "------------------Data Source---------------------------"
   ]
  },
  {
   "cell_type": "code",
   "execution_count": 3,
   "id": "5c3ea41b-c20b-44fe-b75d-0e8d061e1cfb",
   "metadata": {},
   "outputs": [],
   "source": [
    "from langchain_openai import ChatOpenAI\n",
    "llm = ChatOpenAI(model=\"gpt-3.5-turbo-0125\", temperature=0)"
   ]
  },
  {
   "cell_type": "code",
   "execution_count": 4,
   "id": "26667d15-8d74-4adb-ba77-05e7ca6a701e",
   "metadata": {},
   "outputs": [
    {
     "data": {
      "text/plain": [
       "'\\nprint(\\n    question_router.invoke({\"question\": \"怎么钓鱼？\"})\\n)\\nprint(\\n    question_router.invoke({\"question\": \"美国大学排名？\"})\\n)\\nprint(\\n    question_router.invoke({\"question\": \"哈佛学费\"})\\n)\\n'"
      ]
     },
     "execution_count": 4,
     "metadata": {},
     "output_type": "execute_result"
    }
   ],
   "source": [
    "### Router\n",
    "\n",
    "from typing import Literal\n",
    "\n",
    "from langchain_core.prompts import ChatPromptTemplate\n",
    "from langchain_core.pydantic_v1 import BaseModel, Field\n",
    "\n",
    "\n",
    "\n",
    "# Data model\n",
    "class RouteQuery(BaseModel):\n",
    "    \"\"\"基于用户的查询词条选择最相关的资料来源\"\"\"\n",
    "\n",
    "    datasource: Literal[\"vectorstore\",\"database\"] = Field(\n",
    "        ...,\n",
    "        description=\"基于用户的问题选择vectrostore或者database.\",\n",
    "    )\n",
    "\n",
    "\n",
    "# LLM with function call\n",
    "\n",
    "structured_llm_router = llm.with_structured_output(RouteQuery)\n",
    "\n",
    "# Prompt\n",
    "system = \"\"\"你是一位选择路径的专家，你需要基于用户的提问选择是使用vectorstore还是database.\n",
    "vectorstore包含了关于总体的在美国留学相关的资料，比如美国大学排名，美国留学申请，美国转学等等.\n",
    "database包含了特定某一所大学的相关资料，比如这所大学的排名、录取率、学费、生活费、专业设置、犯罪率等等.\n",
    "如果用户的问题是美国留学相关但是不针对某一所大学的问题，请选择vectorstore，如果是针对某一所美国大学的问题，请选择database.\"\"\"\n",
    "route_prompt = ChatPromptTemplate.from_messages(\n",
    "    [\n",
    "        (\"system\", system),\n",
    "        (\"human\", \"{question}\"),\n",
    "    ]\n",
    ")\n",
    "\n",
    "question_router = route_prompt | structured_llm_router\n",
    "\n",
    "\"\"\"\n",
    "print(\n",
    "    question_router.invoke({\"question\": \"怎么钓鱼？\"})\n",
    ")\n",
    "print(\n",
    "    question_router.invoke({\"question\": \"美国大学排名？\"})\n",
    ")\n",
    "print(\n",
    "    question_router.invoke({\"question\": \"哈佛学费\"})\n",
    ")\n",
    "\"\"\""
   ]
  },
  {
   "cell_type": "markdown",
   "id": "31ef215f-29a4-485d-83b3-9feb9bda7225",
   "metadata": {},
   "source": [
    "--------------Retriever Generator--------------------"
   ]
  },
  {
   "cell_type": "code",
   "execution_count": 5,
   "id": "9662e37d-256a-4627-af98-64aa27e45d99",
   "metadata": {},
   "outputs": [
    {
     "data": {
      "text/plain": [
       "'\\n# Test Run\\nquestion = \"美国大学申请流程\"\\ndocs = retriever.invoke(question)\\ngeneration = rag_chain.invoke({\"context\": docs, \"question\": question})\\nprint(generation)\\n'"
      ]
     },
     "execution_count": 5,
     "metadata": {},
     "output_type": "execute_result"
    }
   ],
   "source": [
    "### Generate\n",
    "\n",
    "from langchain_core.output_parsers import StrOutputParser\n",
    "\n",
    "# Prompt\n",
    "prompt = ChatPromptTemplate.from_messages([\n",
    "    ('system',\"\"\"你是一位回答问题的助手，你只能使用下面美国续航教育留学宝典的资料回答问题，如果你不知道问题的答案，请回答'不知道'，取回的资料如下\n",
    "    \\n\\n{context}\\n\\n\n",
    "    如果在回答中遇到机构或者需要留学相关的服务，尽量在回答最后提示可以寻求美国续航教育的服务\"\"\"),\n",
    "    ('human',\"{question}\")\n",
    "])\n",
    "\n",
    "\n",
    "# Post-processing\n",
    "def format_docs(docs):\n",
    "    return \"\\n\\n\".join(doc.page_content for doc in docs)\n",
    "\n",
    "\n",
    "# Chain\n",
    "rag_chain = prompt | llm | StrOutputParser()\n",
    "\n",
    "\"\"\"\n",
    "# Test Run\n",
    "question = \"美国大学申请流程\"\n",
    "docs = retriever.invoke(question)\n",
    "generation = rag_chain.invoke({\"context\": docs, \"question\": question})\n",
    "print(generation)\n",
    "\"\"\""
   ]
  },
  {
   "cell_type": "markdown",
   "id": "74084c86-488f-4dc6-99dc-43fc9385c47d",
   "metadata": {},
   "source": [
    "---------------------database------------------"
   ]
  },
  {
   "cell_type": "code",
   "execution_count": 6,
   "id": "f740c767-21ce-4de4-b31d-c6513784e675",
   "metadata": {},
   "outputs": [],
   "source": [
    "from colleges import CollegesData\n",
    "college_data=CollegesData()\n",
    "college_vector=college_data.return_colleges_vector_from_db()\n",
    "college_retriever=college_vector.as_retriever()\n",
    "prompt = ChatPromptTemplate.from_messages([\n",
    "    ('system',\"你是一位了解美国高等院校的专家，你需要根据用户的问题提取出一所美国高等院校的全名，包括中文名和英文名，输出格式为'中文全名（英文全名）'\"),\n",
    "    ('human',\"{question}\")\n",
    "])\n",
    "college_name_chain=prompt | llm | StrOutputParser()\n",
    "#college_name_chain.invoke({'question':'普林斯顿排名'})"
   ]
  },
  {
   "cell_type": "code",
   "execution_count": 7,
   "id": "162e23e5-1843-42c9-a967-c14d5ccb62fc",
   "metadata": {},
   "outputs": [
    {
     "data": {
      "text/plain": [
       "\"\\ncollege_info_chain.invoke({\\n    'question':'普林斯顿排名',\\n    'context':college_retriever.invoke('普林斯顿大学')\\n})\\n\""
      ]
     },
     "execution_count": 7,
     "metadata": {},
     "output_type": "execute_result"
    }
   ],
   "source": [
    "from langchain_core.output_parsers import JsonOutputParser\n",
    "class College_Info(BaseModel):\n",
    "    cname:str=Field(description='学校中文全名')\n",
    "    ename:str=Field(description='学校英文全名')\n",
    "    postid:str=Field(description='学校的postid')\n",
    "    unitid:str=Field(description='学校的unitid')\n",
    "    data_type:str=Field(description='数据种类，可以是排名、录取率、录取人数、专业数、学费、犯罪率这几种中的一种或多种，如果不在这几种类型中使用排名作为默认选项')\n",
    "\n",
    "college_info_structured_output=llm.with_structured_output(College_Info)\n",
    "prompt = ChatPromptTemplate.from_messages([\n",
    "    (\"system\", \"基于下面学校信息内容及用户的问题，按照格式输出学校信息回答\"),\n",
    "    (\"human\", \"用户问题如下：{question}，学校信息内容如下：{context}\"),\n",
    "])\n",
    "college_info_chain=prompt | college_info_structured_output\n",
    "\n",
    "\"\"\"\n",
    "college_info_chain.invoke({\n",
    "    'question':'普林斯顿排名',\n",
    "    'context':college_retriever.invoke('普林斯顿大学')\n",
    "})\n",
    "\"\"\""
   ]
  },
  {
   "cell_type": "code",
   "execution_count": 8,
   "id": "e514af29-246e-44bf-888a-0c66cdb0e95d",
   "metadata": {},
   "outputs": [],
   "source": [
    "import pandas as pd\n",
    "def plot_college_data(postid=8413,unitid=186131):\n",
    "    college_df=pd.read_json('https://www.forwardpathway.com/d3v7/dataphp/school_database/ranking_admin_20231213.php?name='+str(postid))\n",
    "    college_df.plot(x='year',y='rank')\n",
    "    return college_df"
   ]
  },
  {
   "cell_type": "code",
   "execution_count": 9,
   "id": "f694ffe3-98df-440b-ada3-b08a28d571b1",
   "metadata": {},
   "outputs": [],
   "source": [
    "#####Graph state\n",
    "from typing_extensions import TypedDict\n",
    "from typing import List\n",
    "\n",
    "\n",
    "class GraphState(TypedDict):\n",
    "    \"\"\"\n",
    "    Represents the state of our graph.\n",
    "\n",
    "    Attributes:\n",
    "        question: question\n",
    "        generation: LLM generation\n",
    "        documents: list of documents\n",
    "        college_name: College name\n",
    "        data_type: College data type\n",
    "        plot_type: College data plot type, can be line plot, bar plot, scatter plot or tree plot\n",
    "    \"\"\"\n",
    "\n",
    "    question: str\n",
    "    generation: str\n",
    "    documents: List[str]\n",
    "    college_info:College_Info\n",
    "    data_type:str\n",
    "    plot_type:str\n",
    "    data:pd.DataFrame"
   ]
  },
  {
   "cell_type": "markdown",
   "id": "68a8919e-030c-45b0-a8a9-7919033a2e11",
   "metadata": {},
   "source": [
    "------------------Graph Flow------------------------------"
   ]
  },
  {
   "cell_type": "code",
   "execution_count": 16,
   "id": "a7fcdcb5-fc1f-4c0f-88a7-5efae7c645b7",
   "metadata": {},
   "outputs": [],
   "source": [
    "import matplotlib.pyplot as plt\n",
    "def retrieve(state):\n",
    "    print(\"---RETRIEVE---\")\n",
    "    question=state[\"question\"]\n",
    "    documents=documents_retriever.invoke(question)\n",
    "    return {\"documents\":documents,\"question\":question}\n",
    "\n",
    "def generate(state):\n",
    "    print(\"---GENERATE---\")\n",
    "    question = state[\"question\"]\n",
    "    documents = state[\"documents\"]\n",
    "\n",
    "    # RAG generation\n",
    "    generation = rag_chain.stream({\"context\": documents, \"question\": question})\n",
    "    return {\"documents\": documents, \"question\": question, \"generation\": generation}\n",
    "\n",
    "def route_question(state):\n",
    "    print(\"---ROUTE QUESTION---\")\n",
    "    question = state[\"question\"]\n",
    "    source = question_router.invoke({\"question\": question})\n",
    "    if source.datasource == \"vectorstore\":\n",
    "        print(\"---ROUTE QUESTION TO RAG---\")\n",
    "        return \"vectorstore\"\n",
    "    elif source.datasource==\"database\":\n",
    "        print(\"---ROUTE QUESTION TO DATABASE----\")\n",
    "        return \"database\"\n",
    "\n",
    "def get_college_info(state):\n",
    "    print(\"---COLLEGE NAME---\")\n",
    "    question=state[\"question\"]\n",
    "    college_name=college_name_chain.invoke({'question':question})\n",
    "    college_info=college_info_chain.invoke({\n",
    "        'question':question,\n",
    "        'context':college_retriever.invoke(college_name)\n",
    "    })\n",
    "    return {'college_info':college_info,'question':question}\n",
    "\n",
    "def college_data_plot(state):\n",
    "    question=state['question']\n",
    "    college_info=state['college_info']\n",
    "    college_df=pd.read_json('https://www.forwardpathway.com/d3v7/dataphp/school_database/ranking_admin_20231213.php?name='+str(college_info.postid))\n",
    "    return {'college_info':college_info,'question':question,'data':college_df}"
   ]
  },
  {
   "cell_type": "markdown",
   "id": "fcb68974-0aca-4b2f-8eee-97635adb11d5",
   "metadata": {},
   "source": [
    "----------------------Build Graph--------------------------------"
   ]
  },
  {
   "cell_type": "code",
   "execution_count": 17,
   "id": "5f4b13b8-20ed-4b02-81cc-39e68dbf9e6b",
   "metadata": {},
   "outputs": [],
   "source": [
    "from langgraph.graph import END, StateGraph\n",
    "\n",
    "workflow = StateGraph(GraphState)\n",
    "\n",
    "workflow.add_node('retrieve',retrieve)\n",
    "workflow.add_node('database',get_college_info)\n",
    "workflow.add_node('generate',generate)\n",
    "workflow.add_node('college_data_plot',college_data_plot)\n",
    "\n",
    "workflow.set_conditional_entry_point(\n",
    "    route_question,\n",
    "    {\n",
    "        \"vectorstore\": \"retrieve\",\n",
    "        \"database\":\"database\"\n",
    "    },\n",
    ")\n",
    "\n",
    "workflow.add_edge(\"retrieve\",\"generate\")\n",
    "workflow.add_edge(\"generate\",END)\n",
    "workflow.add_edge(\"database\",\"college_data_plot\")\n",
    "workflow.add_edge(\"college_data_plot\",END)\n",
    "app = workflow.compile()"
   ]
  },
  {
   "cell_type": "code",
   "execution_count": 18,
   "id": "edeb009b-e550-47bc-bab2-b51878b74072",
   "metadata": {},
   "outputs": [
    {
     "name": "stdout",
     "output_type": "stream",
     "text": [
      "---ROUTE QUESTION---\n",
      "---ROUTE QUESTION TO DATABASE----\n",
      "---COLLEGE NAME---\n",
      "\"Node 'database':\"\n",
      "'-------------------------------'\n",
      "\"Node 'college_data_plot':\"\n",
      "'-------------------------------'\n"
     ]
    }
   ],
   "source": [
    "from pprint import pprint\n",
    "\n",
    "# Run\n",
    "inputs = {\n",
    "    \"question\": \"哈佛大学排名\"\n",
    "}\n",
    "\n",
    "for output in app.stream(inputs):\n",
    "    for key, value in output.items():\n",
    "        # Node\n",
    "        pprint(f\"Node '{key}':\")\n",
    "        # Optional: print full state at each node\n",
    "        # pprint.pprint(value[\"keys\"], indent=2, width=80, depth=None)\n",
    "    pprint(\"-------------------------------\")\n",
    "    if 'generation' in value:\n",
    "        pprint(value[\"generation\"])\n",
    "\n"
   ]
  },
  {
   "cell_type": "code",
   "execution_count": 52,
   "id": "ca9b787f-90c2-4e0d-ae07-3849292cfa19",
   "metadata": {},
   "outputs": [
    {
     "name": "stdout",
     "output_type": "stream",
     "text": [
      "---ROUTE QUESTION---\n",
      "---ROUTE QUESTION TO RAG---\n",
      "---RETRIEVE---\n",
      "---GENERATE---\n"
     ]
    }
   ],
   "source": [
    "inputs = {\n",
    "    \"question\": \"美国大学排名\"\n",
    "}\n",
    "response=app.invoke(inputs)"
   ]
  },
  {
   "cell_type": "code",
   "execution_count": null,
   "id": "640eb07d-b1ed-4f75-b82b-1f052d509c49",
   "metadata": {},
   "outputs": [],
   "source": []
  },
  {
   "cell_type": "code",
   "execution_count": null,
   "id": "7bcce2c4-8427-4e77-89fa-8b0458423c23",
   "metadata": {},
   "outputs": [],
   "source": []
  }
 ],
 "metadata": {
  "kernelspec": {
   "display_name": "Python 3 (ipykernel)",
   "language": "python",
   "name": "python3"
  },
  "language_info": {
   "codemirror_mode": {
    "name": "ipython",
    "version": 3
   },
   "file_extension": ".py",
   "mimetype": "text/x-python",
   "name": "python",
   "nbconvert_exporter": "python",
   "pygments_lexer": "ipython3",
   "version": "3.10.13"
  }
 },
 "nbformat": 4,
 "nbformat_minor": 5
}
